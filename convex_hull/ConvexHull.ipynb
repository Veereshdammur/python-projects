{
 "cells": [
  {
   "cell_type": "code",
   "execution_count": 7,
   "metadata": {
    "collapsed": false
   },
   "outputs": [],
   "source": [
    "#\n",
    "# Alexey Abramov <alexey.abramov.salzi <at> gmail.com>\n",
    "#\n",
    "# The current code contains implementation of Andrew's monotone chain 2D convex hull algorithm.\n",
    "# Asymptotic complexity: O(n log n).\n",
    "# Practical performance: 0.5-1.0 seconds for n=1000000 on a 1GHz machine.\n",
    "#\n",
    "\n",
    "import random\n",
    "import matplotlib.pyplot as plt\n",
    "%matplotlib inline\n",
    "\n",
    "grid_dimension_x = 10   # X grid dimension\n",
    "grid_dimension_y = 10   # Y grid dimension\n",
    "\n",
    "\n",
    "def get_coordinates(points_list):\n",
    "    \"\"\" Extract x and y point coordinates from a list of tuples.\n",
    "    :param points_list: points as a list of tuples\n",
    "    :return x and y point coordinates as separate lists\n",
    "    \"\"\"\n",
    "\n",
    "    x = []\n",
    "    y = []\n",
    "\n",
    "    for ind in range(len(points_list)):\n",
    "        x.append(points_list[ind][0])\n",
    "        y.append(points_list[ind][1])\n",
    "\n",
    "    return x, y\n",
    "\n",
    "\n",
    "def cross(o, a, b):\n",
    "    \"\"\" 2D cross product of OA and OB vectors, i.e. z-component of their 3D cross product.\n",
    "    :param o: point O\n",
    "    :param a: point A\n",
    "    :param b: point B\n",
    "    :return cross product of vectors OA and OB (OA x OB), positive if OAB makes a counter-clockwise turn, negative for clockwise turn, and zero if the points are collinear.\n",
    "    \"\"\"\n",
    "\n",
    "    return (a[0] - o[0]) * (b[1] - o[1]) -\\\n",
    "           (a[1] - o[1]) * (b[0] - o[0])\n",
    "\n",
    "\n",
    "nmb = 15   # number of points\n",
    "\n",
    "# generate points\n",
    "nx = [random.randint(0, grid_dimension_x) for i in range(nmb)]\n",
    "ny = [random.randint(0, grid_dimension_y) for i in range(nmb)]\n",
    "\n",
    "# store points as a list of tuples for convex hull computation\n",
    "points_input = []\n",
    "\n",
    "for ind in range(nmb):\n",
    "    points_input.append( (nx[ind], ny[ind]) )"
   ]
  },
  {
   "cell_type": "code",
   "execution_count": 8,
   "metadata": {
    "collapsed": false
   },
   "outputs": [
    {
     "name": "stdout",
     "output_type": "stream",
     "text": [
      "convex_hull_vertices =  [(1, 3), (6, 0), (8, 2), (10, 6), (10, 10), (10, 10), (6, 10), (1, 7), (1, 3)]\n"
     ]
    }
   ],
   "source": [
    "# find the convex hull\n",
    "    \n",
    "# Sort the points lexicographically (tuples are compared lexicographically).\n",
    "# Remove duplicates to detect the case we have just one unique point.\n",
    "points = sorted(set(points_input))\n",
    "\n",
    "# Boring case: no points or a single point, possibly repeated multiple times.\n",
    "if len(points) > 1:\n",
    "\n",
    "    # Build lower hull\n",
    "    lower = []\n",
    "    for p in points:\n",
    "        while len(lower) >= 2 and cross(lower[-2], lower[-1], p) <= 0:\n",
    "            lower.pop()\n",
    "        lower.append(p)\n",
    "\n",
    "    # Build upper hull\n",
    "    upper = []\n",
    "    for p in reversed(points):\n",
    "        while len(upper) >= 2 and cross(upper[-2], upper[-1], p) <= 0:\n",
    "            upper.pop()\n",
    "        upper.append(p)\n",
    "\n",
    "    # Concatenation of the lower and upper hulls gives the convex hull\n",
    "    # The first point occurs in the list twice, since it's at the same time the last point\n",
    "    convex_hull_vertices = lower[:] + upper[:]\n",
    "\n",
    "    print 'convex_hull_vertices = ', convex_hull_vertices"
   ]
  },
  {
   "cell_type": "code",
   "execution_count": 9,
   "metadata": {
    "collapsed": false
   },
   "outputs": [
    {
     "data": {
      "text/plain": [
       "[<matplotlib.lines.Line2D at 0x7f673e9c2d90>]"
      ]
     },
     "execution_count": 9,
     "metadata": {},
     "output_type": "execute_result"
    },
    {
     "data": {
      "image/png": "[encoded data removed]",
      "text/plain": [
       "<matplotlib.figure.Figure at 0x7f675c1c75d0>"
      ]
     },
     "metadata": {},
     "output_type": "display_data"
    }
   ],
   "source": [
    "# plot data\n",
    "plt.figure(\"Convex hull computation\")\n",
    "\n",
    "# grid\n",
    "plt.axis( [-1, grid_dimension_x + 1, -1, grid_dimension_y + 1] )\n",
    "\n",
    "# plot input points\n",
    "points_x, points_y = get_coordinates(points)\n",
    "plt.plot(points_x, points_y, 'ko')\n",
    "\n",
    "# draw lower convex hull\n",
    "lower_x, lower_y = get_coordinates(lower)\n",
    "plt.plot(lower_x, lower_y, linestyle='-', color='blue')\n",
    "\n",
    "# draw upper convex hull\n",
    "upper_x, upper_y = get_coordinates(upper)\n",
    "plt.plot(upper_x, upper_y, linestyle='-', color='red')"
   ]
  },
  {
   "cell_type": "code",
   "execution_count": 21,
   "metadata": {
    "collapsed": false
   },
   "outputs": [
    {
     "name": "stdout",
     "output_type": "stream",
     "text": [
      "cross res =  44\n",
      "cross res =  24\n",
      "cross res =  32\n",
      "cross res =  24\n",
      "cross res =  0\n",
      "cross res =  0\n",
      "cross res =  -6\n",
      "cross res =  12\n",
      "The picked point is outside\n"
     ]
    }
   ],
   "source": [
    "# pick a point to be checked\n",
    "x = random.randint(0, grid_dimension_x)\n",
    "y = random.randint(0, grid_dimension_y)\n",
    "\n",
    "inside = True\n",
    "\n",
    "for ind in range(1, len(convex_hull_vertices)):\n",
    "    res = cross(convex_hull_vertices[ind-1], convex_hull_vertices[ind], (x,y))\n",
    "    print 'cross res = ', res\n",
    "\n",
    "    if res < 0:\n",
    "        inside = False\n",
    "\n",
    "if inside:\n",
    "    str_output = 'inside'\n",
    "else:\n",
    "    str_output = 'outside'\n",
    "\n",
    "print 'The picked point is', str_output"
   ]
  },
  {
   "cell_type": "code",
   "execution_count": 22,
   "metadata": {
    "collapsed": false
   },
   "outputs": [
    {
     "data": {
      "text/plain": [
       "[<matplotlib.lines.Line2D at 0x7f673e746350>]"
      ]
     },
     "execution_count": 22,
     "metadata": {},
     "output_type": "execute_result"
    },
    {
     "data": {
      "image/png": "[encoded data removed]",
      "text/plain": [
       "<matplotlib.figure.Figure at 0x7f673e83bf50>"
      ]
     },
     "metadata": {},
     "output_type": "display_data"
    }
   ],
   "source": [
    "# plot data\n",
    "fig = plt.figure(\"Checking a point\")\n",
    "plt.axis( [-1, grid_dimension_x + 1, -1, grid_dimension_y + 1] )\n",
    "\n",
    "# label with the check result\n",
    "ax = fig.add_subplot(111)\n",
    "ax.text(0.95, 0.01, str_output, verticalalignment='bottom', horizontalalignment='right', transform=ax.transAxes, color='green', fontsize=15)\n",
    "\n",
    "# obtained convex hull\n",
    "hull_x, hull_y = get_coordinates(convex_hull_vertices)\n",
    "plt.plot(hull_x, hull_y, linestyle='-', color='blue')\n",
    "\n",
    "# point to be checked\n",
    "plt.plot(x, y, 'go')"
   ]
  },
  {
   "cell_type": "code",
   "execution_count": null,
   "metadata": {
    "collapsed": true
   },
   "outputs": [],
   "source": []
  }
 ],
 "metadata": {
  "kernelspec": {
   "display_name": "Python 2",
   "language": "python",
   "name": "python2"
  },
  "language_info": {
   "codemirror_mode": {
    "name": "ipython",
    "version": 2
   },
   "file_extension": ".py",
   "mimetype": "text/x-python",
   "name": "python",
   "nbconvert_exporter": "python",
   "pygments_lexer": "ipython2",
   "version": "2.7.12"
  }
 },
 "nbformat": 4,
 "nbformat_minor": 2
}
